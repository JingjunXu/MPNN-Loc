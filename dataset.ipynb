{
 "cells": [
  {
   "cell_type": "code",
   "execution_count": 1,
   "metadata": {},
   "outputs": [],
   "source": [
    "import numpy as np\n",
    "import matplotlib.pyplot as plt\n",
    "from scipy.io import savemat, loadmat\n",
    "import scipy.sparse as sp"
   ]
  },
  {
   "cell_type": "markdown",
   "metadata": {},
   "source": [
    "## Dataset Type I\n",
    "The anchors choosen in this dataset is **uniformly ditributed** in the plane. The number of anchors is **25**, and the number of agents is **475**."
   ]
  },
  {
   "cell_type": "code",
   "execution_count": 2,
   "metadata": {},
   "outputs": [],
   "source": [
    "N = 500\n",
    "N_anchors = 25\n",
    "N_agents = 475\n",
    "num_sample = 100"
   ]
  },
  {
   "cell_type": "markdown",
   "metadata": {},
   "source": [
    "### Labels Generation"
   ]
  },
  {
   "cell_type": "markdown",
   "metadata": {},
   "source": [
    "#### Initialization"
   ]
  },
  {
   "cell_type": "code",
   "execution_count": 3,
   "metadata": {},
   "outputs": [],
   "source": [
    "Uniform_100samples_25anchors_475agents_0Percent_0Variance_labels = np.zeros((num_sample, N, 2))"
   ]
  },
  {
   "cell_type": "code",
   "execution_count": 4,
   "metadata": {},
   "outputs": [],
   "source": [
    "Uniform_100samples_25anchors_475agents_0Percent_004Variance_labels = np.zeros((num_sample, N, 2)) # 0.04 Variance\n",
    "Uniform_100samples_25anchors_475agents_10Percent_004Variance_labels = np.zeros((num_sample, N, 2)) # 0.1 mean 0.04 Variance\n",
    "Uniform_100samples_25anchors_475agents_10Percent_01Variance_labels = np.zeros((num_sample, N, 2)) # 0.1 mean 0.1 Variance\n",
    "Uniform_100samples_25anchors_475agents_30Percent_01Variance_labels = np.zeros((num_sample, N, 2)) # 0.1 mean 0.1 Variance\n",
    "Uniform_100samples_25anchors_475agents_30Percent_025Variance_labels = np.zeros((num_sample, N, 2)) # 0.1 mean 0.1 Variance\n",
    "Uniform_100samples_25anchors_475agents_50Percent_025Variance_labels = np.zeros((num_sample, N, 2)) # 0.1 mean 0.1 Variance"
   ]
  },
  {
   "cell_type": "markdown",
   "metadata": {},
   "source": [
    "#### Fix the anchors"
   ]
  },
  {
   "cell_type": "code",
   "execution_count": 5,
   "metadata": {},
   "outputs": [],
   "source": [
    "idx_anchors = range(25)"
   ]
  },
  {
   "cell_type": "code",
   "execution_count": 6,
   "metadata": {},
   "outputs": [],
   "source": [
    "cnt = 0\n",
    "for i in range(5):\n",
    "    for j in range(5):\n",
    "        for k in range(num_sample):\n",
    "            Uniform_100samples_25anchors_475agents_0Percent_0Variance_labels[k][cnt][0] = 1.0 / 4.0 * i\n",
    "            Uniform_100samples_25anchors_475agents_0Percent_0Variance_labels[k][cnt][1] = 1.0 / 4.0 * j\n",
    "        cnt = cnt + 1"
   ]
  },
  {
   "cell_type": "code",
   "execution_count": 7,
   "metadata": {},
   "outputs": [
    {
     "data": {
      "text/plain": [
       "<matplotlib.collections.PathCollection at 0x7f372aacb0a0>"
      ]
     },
     "execution_count": 7,
     "metadata": {},
     "output_type": "execute_result"
    },
    {
     "data": {
      "image/png": "[encoded data removed]",
      "text/plain": [
       "<Figure size 640x480 with 1 Axes>"
      ]
     },
     "metadata": {},
     "output_type": "display_data"
    }
   ],
   "source": [
    "plt.scatter(Uniform_100samples_25anchors_475agents_0Percent_0Variance_labels[0].T[0][:25], Uniform_100samples_25anchors_475agents_0Percent_0Variance_labels[0].T[1][:25])"
   ]
  },
  {
   "cell_type": "code",
   "execution_count": 8,
   "metadata": {},
   "outputs": [],
   "source": [
    "# Uniform_100samples_25anchors_475agents_0Percent_004Variance_labels[k].T[0][:N_anchors] = Uniform_100samples_25anchors_475agents_0Percent_0Variance_labels[k].T[0][:N_anchors]\n",
    "# Uniform_100samples_25anchors_475agents_10Percent_004Variance_labels[k].T[0][:N_anchors] = Uniform_100samples_25anchors_475agents_0Percent_0Variance_labels[k].T[0][:N_anchors]\n",
    "# Uniform_100samples_25anchors_475agents_10Percent_01Variance_labels[k].T[0][:N_anchors] = Uniform_100samples_25anchors_475agents_0Percent_0Variance_labels[k].T[0][:N_anchors]\n",
    "# Uniform_100samples_25anchors_475agents_30Percent_01Variance_labels[k].T[0][:N_anchors] = Uniform_100samples_25anchors_475agents_0Percent_0Variance_labels[k].T[0][:N_anchors]\n",
    "# Uniform_100samples_25anchors_475agents_30Percent_025Variance_labels[k].T[0][:N_anchors] = Uniform_100samples_25anchors_475agents_0Percent_0Variance_labels[k].T[0][:N_anchors]\n",
    "# Uniform_100samples_25anchors_475agents_50Percent_025Variance_labels[k].T[0][:N_anchors] = Uniform_100samples_25anchors_475agents_0Percent_0Variance_labels[k].T[0][:N_anchors]"
   ]
  },
  {
   "cell_type": "markdown",
   "metadata": {},
   "source": [
    "#### Generate the Agents"
   ]
  },
  {
   "cell_type": "code",
   "execution_count": 8,
   "metadata": {},
   "outputs": [],
   "source": [
    "np.random.seed(42)"
   ]
  },
  {
   "cell_type": "code",
   "execution_count": 9,
   "metadata": {},
   "outputs": [
    {
     "name": "stdout",
     "output_type": "stream",
     "text": [
      "0.3745401188473625\n"
     ]
    }
   ],
   "source": [
    "print(np.random.rand())"
   ]
  },
  {
   "cell_type": "code",
   "execution_count": 10,
   "metadata": {},
   "outputs": [],
   "source": [
    "for k in range(num_sample):\n",
    "    #\n",
    "    Uniform_100samples_25anchors_475agents_0Percent_0Variance_labels[k].T[0][N_anchors:] = np.random.rand(N_agents)\n",
    "    Uniform_100samples_25anchors_475agents_0Percent_0Variance_labels[k].T[1][N_anchors:] = np.random.rand(N_agents)\n",
    "    #\n",
    "    # Uniform_100samples_25anchors_475agents_0Percent_004Variance_labels[k].T[0][N_anchors:] = Uniform_100samples_25anchors_475agents_0Percent_0Variance_labels[k].T[0][N_anchors:] + np.random.normal(loc=0.0, scale=0.04, size=N_agents)\n",
    "    # Uniform_100samples_25anchors_475agents_0Percent_004Variance_labels[k].T[1][N_anchors:] = Uniform_100samples_25anchors_475agents_0Percent_0Variance_labels[k].T[0][N_anchors:] + np.random.normal(loc=0.0, scale=0.04, size=N_agents)\n",
    "    # #\n",
    "    # Uniform_100samples_25anchors_475agents_10Percent_004Variance_labels[k].T[0][N_anchors:] = Uniform_100samples_25anchors_475agents_0Percent_0Variance_labels[k].T[0][N_anchors:] + np.random.normal(loc=0.1, scale=0.04, size=N_agents)\n",
    "    # Uniform_100samples_25anchors_475agents_10Percent_004Variance_labels[k].T[1][N_anchors:] = Uniform_100samples_25anchors_475agents_0Percent_0Variance_labels[k].T[0][N_anchors:] + np.random.normal(loc=0.1, scale=0.04, size=N_agents)\n",
    "    # #\n",
    "    # Uniform_100samples_25anchors_475agents_10Percent_01Variance_labels[k].T[0][N_anchors:] = Uniform_100samples_25anchors_475agents_0Percent_0Variance_labels[k].T[0][N_anchors:] + np.random.normal(loc=0.1, scale=0.1, size=N_agents)\n",
    "    # Uniform_100samples_25anchors_475agents_10Percent_01Variance_labels[k].T[1][N_anchors:] = Uniform_100samples_25anchors_475agents_0Percent_0Variance_labels[k].T[0][N_anchors:] + np.random.normal(loc=0.1, scale=0.1, size=N_agents)\n",
    "    # #\n",
    "    # Uniform_100samples_25anchors_475agents_30Percent_01Variance_labels[k].T[0][N_anchors:] = Uniform_100samples_25anchors_475agents_0Percent_0Variance_labels[k].T[0][N_anchors:] + np.random.normal(loc=0.3, scale=0.1, size=N_agents)\n",
    "    # Uniform_100samples_25anchors_475agents_30Percent_01Variance_labels[k].T[1][N_anchors:] = Uniform_100samples_25anchors_475agents_0Percent_0Variance_labels[k].T[0][N_anchors:] + np.random.normal(loc=0.3, scale=0.1, size=N_agents)\n",
    "    # #\n",
    "    # Uniform_100samples_25anchors_475agents_30Percent_025Variance_labels[k].T[0][N_anchors:] = Uniform_100samples_25anchors_475agents_0Percent_0Variance_labels[k].T[0][N_anchors:] + np.random.normal(loc=0.3, scale=0.25, size=N_agents)\n",
    "    # Uniform_100samples_25anchors_475agents_30Percent_025Variance_labels[k].T[1][N_anchors:] = Uniform_100samples_25anchors_475agents_0Percent_0Variance_labels[k].T[0][N_anchors:] + np.random.normal(loc=0.3, scale=0.25, size=N_agents)\n",
    "    # #\n",
    "    # Uniform_100samples_25anchors_475agents_50Percent_025Variance_labels[k].T[0][N_anchors:] = Uniform_100samples_25anchors_475agents_0Percent_0Variance_labels[k].T[0][N_anchors:] + np.random.normal(loc=0.5, scale=0.25, size=N_agents)\n",
    "    # Uniform_100samples_25anchors_475agents_50Percent_025Variance_labels[k].T[1][N_anchors:] = Uniform_100samples_25anchors_475agents_0Percent_0Variance_labels[k].T[0][N_anchors:] + np.random.normal(loc=0.5, scale=0.25, size=N_agents)"
   ]
  },
  {
   "cell_type": "code",
   "execution_count": 11,
   "metadata": {},
   "outputs": [
    {
     "data": {
      "text/plain": [
       "<matplotlib.collections.PathCollection at 0x7f3729fd5460>"
      ]
     },
     "execution_count": 11,
     "metadata": {},
     "output_type": "execute_result"
    },
    {
     "data": {
      "image/png": "[encoded data removed]",
      "text/plain": [
       "<Figure size 640x480 with 1 Axes>"
      ]
     },
     "metadata": {},
     "output_type": "display_data"
    }
   ],
   "source": [
    "plt.scatter(Uniform_100samples_25anchors_475agents_0Percent_0Variance_labels[0].T[0][25:50], Uniform_100samples_25anchors_475agents_0Percent_0Variance_labels[0].T[1][25:50])"
   ]
  },
  {
   "cell_type": "code",
   "execution_count": 12,
   "metadata": {},
   "outputs": [
    {
     "data": {
      "text/plain": [
       "<matplotlib.collections.PathCollection at 0x7f3729f4f280>"
      ]
     },
     "execution_count": 12,
     "metadata": {},
     "output_type": "execute_result"
    },
    {
     "data": {
      "image/png": "[encoded data removed]",
      "text/plain": [
       "<Figure size 640x480 with 1 Axes>"
      ]
     },
     "metadata": {},
     "output_type": "display_data"
    }
   ],
   "source": [
    "plt.scatter(Uniform_100samples_25anchors_475agents_0Percent_0Variance_labels[3].T[0][25:50], Uniform_100samples_25anchors_475agents_0Percent_0Variance_labels[3].T[1][25:50])"
   ]
  },
  {
   "cell_type": "markdown",
   "metadata": {},
   "source": [
    "### Distance Generation"
   ]
  },
  {
   "cell_type": "code",
   "execution_count": 13,
   "metadata": {},
   "outputs": [],
   "source": [
    "def compute_distance_matrix(points):\n",
    "    diff = points[:, np.newaxis, :] - points[np.newaxis, :, :]\n",
    "    dist_matrix = np.sqrt(np.sum(diff**2, axis=-1)) \n",
    "    return dist_matrix"
   ]
  },
  {
   "cell_type": "code",
   "execution_count": 20,
   "metadata": {},
   "outputs": [],
   "source": [
    "def compute_distance_matrix_noise(points, mean, var):\n",
    "    diff = points[:, np.newaxis, :] - points[np.newaxis, :, :]\n",
    "    dist_matrix = np.sqrt(np.sum(diff**2, axis=-1)) \n",
    "    dist_matrix_noise = dist_matrix + np.random.normal(loc=mean, scale=np.sqrt(var), size=dist_matrix.shape) * dist_matrix\n",
    "    return dist_matrix_noise"
   ]
  },
  {
   "cell_type": "markdown",
   "metadata": {},
   "source": [
    "#### Initialization"
   ]
  },
  {
   "cell_type": "code",
   "execution_count": 15,
   "metadata": {},
   "outputs": [],
   "source": [
    "Uniform_100samples_25anchors_475agents_0Percent_0Variance_dist = np.zeros((100, N, N))"
   ]
  },
  {
   "cell_type": "code",
   "execution_count": 16,
   "metadata": {},
   "outputs": [],
   "source": [
    "Uniform_100samples_25anchors_475agents_0Percent_004Variance_dist = np.zeros((100, N, N)) # 0.04 Variance\n",
    "Uniform_100samples_25anchors_475agents_10Percent_004Variance_dist = np.zeros((100, N, N)) # 0.1 mean 0.04 Variance\n",
    "Uniform_100samples_25anchors_475agents_10Percent_01Variance_dist = np.zeros((100, N, N)) # 0.1 mean 0.1 Variance\n",
    "Uniform_100samples_25anchors_475agents_30Percent_01Variance_dist = np.zeros((100, N, N)) # 0.1 mean 0.1 Variance\n",
    "Uniform_100samples_25anchors_475agents_30Percent_025Variance_dist = np.zeros((100, N, N)) # 0.1 mean 0.1 Variance\n",
    "Uniform_100samples_25anchors_475agents_50Percent_025Variance_dist = np.zeros((100, N, N)) # 0.1 mean 0.1 Variance"
   ]
  },
  {
   "cell_type": "markdown",
   "metadata": {},
   "source": [
    "#### Compute the diatance matrices"
   ]
  },
  {
   "cell_type": "code",
   "execution_count": 17,
   "metadata": {},
   "outputs": [
    {
     "name": "stdout",
     "output_type": "stream",
     "text": [
      "(100, 500, 2)\n"
     ]
    }
   ],
   "source": [
    "print(Uniform_100samples_25anchors_475agents_0Percent_0Variance_labels.shape)"
   ]
  },
  {
   "cell_type": "code",
   "execution_count": 18,
   "metadata": {},
   "outputs": [],
   "source": [
    "range_anchors = compute_distance_matrix(Uniform_100samples_25anchors_475agents_0Percent_0Variance_labels[0][idx_anchors, :])"
   ]
  },
  {
   "cell_type": "code",
   "execution_count": 21,
   "metadata": {},
   "outputs": [],
   "source": [
    "for k in range(num_sample):\n",
    "    Uniform_100samples_25anchors_475agents_0Percent_0Variance_dist[k] = compute_distance_matrix(Uniform_100samples_25anchors_475agents_0Percent_0Variance_labels[k])\n",
    "    Uniform_100samples_25anchors_475agents_0Percent_004Variance_dist[k] = compute_distance_matrix_noise(Uniform_100samples_25anchors_475agents_0Percent_0Variance_labels[k], 0.0, 0.04)\n",
    "    Uniform_100samples_25anchors_475agents_10Percent_004Variance_dist[k] = compute_distance_matrix_noise(Uniform_100samples_25anchors_475agents_0Percent_0Variance_labels[k], 0.1, 0.04)\n",
    "    Uniform_100samples_25anchors_475agents_10Percent_01Variance_dist[k] = compute_distance_matrix_noise(Uniform_100samples_25anchors_475agents_0Percent_0Variance_labels[k], 0.1, 0.1)\n",
    "    Uniform_100samples_25anchors_475agents_30Percent_01Variance_dist[k] = compute_distance_matrix_noise(Uniform_100samples_25anchors_475agents_0Percent_0Variance_labels[k], 0.3, 0.1)\n",
    "    Uniform_100samples_25anchors_475agents_30Percent_025Variance_dist[k] = compute_distance_matrix_noise(Uniform_100samples_25anchors_475agents_0Percent_0Variance_labels[k], 0.3, 0.25)\n",
    "    Uniform_100samples_25anchors_475agents_50Percent_025Variance_dist[k] = compute_distance_matrix_noise(Uniform_100samples_25anchors_475agents_0Percent_0Variance_labels[k], 0.5, 0.25)"
   ]
  },
  {
   "cell_type": "markdown",
   "metadata": {},
   "source": [
    "### Save the matrices"
   ]
  },
  {
   "cell_type": "code",
   "execution_count": 22,
   "metadata": {},
   "outputs": [],
   "source": [
    "savemat('Uniform_100samples_25anchors_475agents_0Percent_0Variance.mat', {'labels': Uniform_100samples_25anchors_475agents_0Percent_0Variance_labels, 'dist': Uniform_100samples_25anchors_475agents_0Percent_0Variance_dist, 'range': Uniform_100samples_25anchors_475agents_0Percent_0Variance_dist})\n",
    "savemat('Uniform_100samples_25anchors_475agents_0Percent_004Variance.mat', {'labels': Uniform_100samples_25anchors_475agents_0Percent_0Variance_labels, 'dist': Uniform_100samples_25anchors_475agents_0Percent_0Variance_dist, 'range': Uniform_100samples_25anchors_475agents_0Percent_004Variance_dist})\n",
    "savemat('Uniform_100samples_25anchors_475agents_10Percent_004Variance.mat', {'labels': Uniform_100samples_25anchors_475agents_0Percent_0Variance_labels, 'dist': Uniform_100samples_25anchors_475agents_0Percent_0Variance_dist, 'range': Uniform_100samples_25anchors_475agents_10Percent_004Variance_dist})\n",
    "savemat('Uniform_100samples_25anchors_475agents_10Percent_01Variance.mat', {'labels': Uniform_100samples_25anchors_475agents_0Percent_0Variance_labels, 'dist': Uniform_100samples_25anchors_475agents_0Percent_0Variance_dist, 'range': Uniform_100samples_25anchors_475agents_10Percent_01Variance_dist})\n",
    "savemat('Uniform_100samples_25anchors_475agents_30Percent_01Variance.mat', {'labels': Uniform_100samples_25anchors_475agents_0Percent_0Variance_labels, 'dist': Uniform_100samples_25anchors_475agents_0Percent_0Variance_dist, 'range': Uniform_100samples_25anchors_475agents_30Percent_01Variance_dist})\n",
    "savemat('Uniform_100samples_25anchors_475agents_30Percent_025Variance.mat', {'labels': Uniform_100samples_25anchors_475agents_0Percent_0Variance_labels, 'dist': Uniform_100samples_25anchors_475agents_0Percent_0Variance_dist, 'range': Uniform_100samples_25anchors_475agents_30Percent_025Variance_dist})\n",
    "savemat('Uniform_100samples_25anchors_475agents_50Percent_025Variance.mat', {'labels': Uniform_100samples_25anchors_475agents_0Percent_0Variance_labels, 'dist': Uniform_100samples_25anchors_475agents_0Percent_0Variance_dist, 'range': Uniform_100samples_25anchors_475agents_50Percent_025Variance_dist})"
   ]
  },
  {
   "cell_type": "markdown",
   "metadata": {},
   "source": [
    "### Data processing"
   ]
  },
  {
   "cell_type": "code",
   "execution_count": 6,
   "metadata": {},
   "outputs": [],
   "source": [
    "import torch"
   ]
  },
  {
   "cell_type": "markdown",
   "metadata": {},
   "source": [
    "#### Relavent Functions"
   ]
  },
  {
   "cell_type": "code",
   "execution_count": 14,
   "metadata": {},
   "outputs": [],
   "source": [
    "def adjacent_normalize(mx):\n",
    "    \"\"\"\"D^(-0.5)*A*D^(-0.5)\"\"\"\n",
    "    rowsum = np.array(mx.sum(1))\n",
    "    rowsum[rowsum == 0] = 1e-10\n",
    "    r_inv_half = np.power(rowsum, -0.5).flatten()\n",
    "    r_inv_half[np.isinf(r_inv_half)] = 0.\n",
    "    r_mat_inv = sp.diags(r_inv_half)\n",
    "    mx = mx.dot(r_mat_inv).transpose().dot(r_mat_inv)\n",
    "    return mx\n",
    "\n",
    "\n",
    "def sparse_mx_to_torch_sparse_tensor(sparse_mx):\n",
    "    \"\"\"Convert a scipy sparse matrix to a torch sparse tensor.\"\"\"\n",
    "    sparse_mx = sparse_mx.tocoo().astype(np.float32)\n",
    "    indices = torch.from_numpy(\n",
    "        np.vstack((sparse_mx.row, sparse_mx.col)).astype(np.int64))\n",
    "    values = torch.from_numpy(sparse_mx.data)\n",
    "    shape = torch.Size(sparse_mx.shape)\n",
    "    return torch.sparse.FloatTensor(indices, values, shape)\n",
    "\n",
    "def normalize(mx):\n",
    "    \"\"\"Row-normalize sparse matrix\"\"\"\n",
    "    rowsum = np.array(mx.sum(1))\n",
    "    rowsum[rowsum == 0] = 1e-10\n",
    "    r_inv = np.power(rowsum, -1).flatten()\n",
    "    r_inv[np.isinf(r_inv)] = 0.\n",
    "    r_mat_inv = sp.diags(r_inv)\n",
    "    mx = r_mat_inv.dot(mx)\n",
    "    return mx\n",
    "\n",
    "def sample(adj_matrix, adj_ture_matrix, max_neighbors=10):\n",
    "    \"\"\"\n",
    "    对每个节点进行邻居采样，确保每个节点的邻居最多为 max_neighbors 条。\n",
    "    并且优先选择权重最小的边。\n",
    "\n",
    "    参数:\n",
    "    adj_matrix (numpy.ndarray): 大小为 (N, N) 的邻接矩阵，其中每个元素是边的权重。\n",
    "    max_neighbors (int): 每个节点最多保留的邻居数。\n",
    "    \n",
    "    返回:\n",
    "    numpy.ndarray: 更新后的邻接矩阵。\n",
    "    \"\"\"\n",
    "    N = adj_matrix.shape[0]  # 节点数目\n",
    "    \n",
    "    # 新的邻接矩阵\n",
    "    sampled_adj_matrix = np.zeros_like(adj_matrix)\n",
    "    sampled_true_adj_matrix = np.zeros_like(adj_ture_matrix)\n",
    "    \n",
    "    # 对每个节点进行处理\n",
    "    for i in range(N):\n",
    "        # 获取节点 i 与其他节点的所有边的权重及其索引\n",
    "        row = adj_matrix[i]\n",
    "        row_true = adj_ture_matrix[i]\n",
    "        \n",
    "        # 获取非零的边权重和对应的邻居节点\n",
    "        neighbors = np.where(row > 0)[0]  # 找到与节点 i 相连的所有节点\n",
    "        weights = row[neighbors]  # 这些节点的边权重\n",
    "        weights_true = row_true[neighbors]\n",
    "        \n",
    "        # 如果当前节点的邻居不超过 max_neighbors，直接复制原来的邻接矩阵\n",
    "        if len(neighbors) <= max_neighbors:\n",
    "            sampled_adj_matrix[i, neighbors] = weights\n",
    "            sampled_true_adj_matrix[i, neighbors] = weights_true\n",
    "        else:\n",
    "            # 按照边权重升序排序，选择权重最小的 max_neighbors 条边\n",
    "            sorted_indices = np.argsort(weights)[:max_neighbors]  # 找到权重最小的 max_neighbors 个边\n",
    "            selected_neighbors = neighbors[sorted_indices]  # 选中的邻居节点\n",
    "            selected_weights = weights[sorted_indices]  # 选中的边权重\n",
    "            selected_weights_true = weights_true[sorted_indices]\n",
    "            \n",
    "            # 更新邻接矩阵，只保留选择的邻居和边权重\n",
    "            sampled_adj_matrix[i, selected_neighbors] = selected_weights\n",
    "            sampled_true_adj_matrix[i, selected_neighbors] = selected_weights_true\n",
    "    \n",
    "    return sampled_adj_matrix, sampled_true_adj_matrix"
   ]
  },
  {
   "cell_type": "code",
   "execution_count": 2,
   "metadata": {},
   "outputs": [],
   "source": [
    "def load_data(threshold, num_edge = None):\n",
    "    # Load the dataset\n",
    "    m = loadmat(\"./Networks_new/Uniform_100samples_25anchors_475agents_50Percent_025Variance.mat\")\n",
    "\n",
    "    Range_Mat = m[\"range\"]  # Range = Distance + noise\n",
    "    Dist_Mat = m[\"dist\"]\n",
    "    labels = m[\"labels\"]\n",
    "\n",
    "    # Size information\n",
    "    num_sample = Range_Mat.shape[0]\n",
    "    N = 500\n",
    "    N_anchors = 25\n",
    "    N_agents = 475\n",
    "    mode_adj = 1\n",
    "    mode_fea = 1\n",
    "    \n",
    "    idx_train = range(0, 70)\n",
    "    idx_val = range(70, 80)\n",
    "    idx_test = range(80, 100)\n",
    "    idx_train = torch.LongTensor(idx_train)\n",
    "    idx_val = torch.LongTensor(idx_val)\n",
    "    idx_test = torch.LongTensor(idx_test)\n",
    "    \n",
    "    features_all = []\n",
    "    # labels_all = []\n",
    "    adj_all = []\n",
    "    S_all = []\n",
    "    # delta_all = []\n",
    "    # degree_all = []\n",
    "    # fea_original_all = []\n",
    "    fea_true_all = []\n",
    "    truncated_noise_all = []\n",
    "    # Range_Mat_all = []\n",
    "    # Dist_Mat_all = []\n",
    "    # Dist_all = []\n",
    "    # Range_all = []\n",
    "    \n",
    "    for k in range(num_sample):\n",
    "        Range = Range_Mat[k].copy()\n",
    "        Dist = Dist_Mat[k].copy()\n",
    "        \n",
    "        # Truncated range\n",
    "        Range[Range > threshold] = 0\n",
    "        Dist[Range > threshold] = 0\n",
    "        \n",
    "        # Graphsage sample\n",
    "        if num_edge:\n",
    "            Range, Dist = sample(Range, Dist, num_edge)\n",
    "\n",
    "        # Get the feature matrix\n",
    "        features = Range.copy()\n",
    "        \n",
    "        # get the truncated true feature\n",
    "        dist = Dist.copy()\n",
    "        \n",
    "        # Get the adjacent matrix\n",
    "        Range_tem = Range.copy()\n",
    "        Range_tem[Range_tem > 0] = 1\n",
    "        Adj = Range_tem\n",
    "\n",
    "        # truncated noise is the unnormalized truncated noize, which is used to compare with the full matrix noise\n",
    "        truncated_noise = features - dist\n",
    "\n",
    "        # Sparse matrix form\n",
    "        features = sp.csr_matrix(features, dtype=np.float64)\n",
    "        dist = sp.csr_matrix(dist, dtype=np.float64)\n",
    "        Adj = sp.csr_matrix(Adj, dtype=np.float64)\n",
    "\n",
    "        # Normalize\n",
    "        # features_original = normalize(Dist_Mat[k])\n",
    "        features_true = normalize(dist)\n",
    "        features = normalize(features)\n",
    "        adj = normalize(Adj + sp.eye(Adj.shape[0]))\n",
    "        S = adjacent_normalize(Adj)\n",
    "\n",
    "        # features = torch.FloatTensor(features.todense())\n",
    "        features_all.append(sparse_mx_to_torch_sparse_tensor(features))\n",
    "        adj_all.append(sparse_mx_to_torch_sparse_tensor(adj))\n",
    "        S_all.append(sparse_mx_to_torch_sparse_tensor(S))\n",
    "        # delta_all.append(torch.FloatTensor(Delta))\n",
    "        # degree_all.append(torch.FloatTensor(np.diag(Degree)))\n",
    "        # fea_original_all.append(torch.FloatTensor(features_original))\n",
    "        fea_true_all.append(sparse_mx_to_torch_sparse_tensor(features_true))\n",
    "        truncated_noise_all.append(torch.FloatTensor(truncated_noise))\n",
    "        # Range_Mat_all.append(torch.FloatTensor(Range_Mat))\n",
    "        # Dist_Mat_all.append(torch.FloatTensor(Dist_Mat))\n",
    "        # Dist_all.append(torch.FloatTensor(Dist))\n",
    "        # Range_all.append(torch.FloatTensor(Range))\n",
    "    \n",
    "    labels_all = torch.FloatTensor(labels)\n",
    "    \n",
    "    return mode_fea, mode_adj, idx_train, idx_val, idx_test, features_all, labels_all, adj_all, S_all, fea_true_all, truncated_noise_all"
   ]
  },
  {
   "cell_type": "code",
   "execution_count": 15,
   "metadata": {},
   "outputs": [],
   "source": [
    "mode_fea, mode_adj, idx_train, idx_val, idx_test, features_all, labels_all, adj_all, S_all, fea_true_all, truncated_noise_all = load_data(0.2, 10)"
   ]
  },
  {
   "cell_type": "code",
   "execution_count": 25,
   "metadata": {},
   "outputs": [
    {
     "name": "stdout",
     "output_type": "stream",
     "text": [
      "torch.Size([500, 2])\n"
     ]
    }
   ],
   "source": [
    "print(labels_all[0].shape)"
   ]
  },
  {
   "cell_type": "markdown",
   "metadata": {},
   "source": [
    "## Test the new model"
   ]
  },
  {
   "cell_type": "code",
   "execution_count": 1,
   "metadata": {},
   "outputs": [],
   "source": [
    "from models import GCN, C_GCN"
   ]
  },
  {
   "cell_type": "code",
   "execution_count": 3,
   "metadata": {},
   "outputs": [],
   "source": [
    "model = C_GCN(nfeat=500,\n",
    "                nhid1=200,\n",
    "                nout=2,\n",
    "                dropout=0.5)"
   ]
  },
  {
   "cell_type": "code",
   "execution_count": 6,
   "metadata": {},
   "outputs": [
    {
     "name": "stdout",
     "output_type": "stream",
     "text": [
      "coeff: False\n",
      "gc1.weight: True\n",
      "gc1.bias: True\n",
      "gc2.weight: True\n",
      "gc2.bias: True\n"
     ]
    }
   ],
   "source": [
    "for name, param in model.named_parameters():\n",
    "    print(f'{name}: {param.requires_grad}')"
   ]
  },
  {
   "cell_type": "code",
   "execution_count": 5,
   "metadata": {},
   "outputs": [],
   "source": [
    "model.coeff.requires_grad = False"
   ]
  }
 ],
 "metadata": {
  "kernelspec": {
   "display_name": "gnn-localization",
   "language": "python",
   "name": "python3"
  },
  "language_info": {
   "codemirror_mode": {
    "name": "ipython",
    "version": 3
   },
   "file_extension": ".py",
   "mimetype": "text/x-python",
   "name": "python",
   "nbconvert_exporter": "python",
   "pygments_lexer": "ipython3",
   "version": "3.8.20"
  }
 },
 "nbformat": 4,
 "nbformat_minor": 2
}
